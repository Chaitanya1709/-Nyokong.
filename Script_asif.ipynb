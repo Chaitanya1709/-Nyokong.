{
 "cells": [
  {
   "cell_type": "code",
   "execution_count": 7,
   "metadata": {},
   "outputs": [
    {
     "name": "stdout",
     "output_type": "stream",
     "text": [
      "Name :- Asif Khan\n",
      "E-Mail ID:- khanasif84512@gmail.com\n",
      "Slack username:- @Asif\n",
      "Biostack:- Drug Discovery and Development\n"
     ]
    }
   ],
   "source": [
    "print (\"Name :- Asif Khan\")\n",
    "print (\"E-Mail ID:- khanasif84512@gmail.com\")\n",
    "print (\"Slack username:- @Asif\")\n",
    "print (\"Biostack:- Drug Discovery and Development\")"
   ]
  }
 ],
 "metadata": {
  "kernelspec": {
   "display_name": "Python 3",
   "language": "python",
   "name": "python3"
  },
  "language_info": {
   "codemirror_mode": {
    "name": "ipython",
    "version": 3
   },
   "file_extension": ".py",
   "mimetype": "text/x-python",
   "name": "python",
   "nbconvert_exporter": "python",
   "pygments_lexer": "ipython3",
   "version": "3.8.5"
  }
 },
 "nbformat": 4,
 "nbformat_minor": 4
}
